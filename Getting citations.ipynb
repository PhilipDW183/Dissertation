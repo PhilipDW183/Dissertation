{
 "cells": [
  {
   "cell_type": "code",
   "execution_count": null,
   "metadata": {},
   "outputs": [],
   "source": [
    "import pandas as pd\n",
    "import numpy as np"
   ]
  },
  {
   "cell_type": "markdown",
   "metadata": {},
   "source": [
    "# Getting citations \n",
    "\n",
    "The purpose of this workbook is to extract patents that have been cited in the citations database and export the results that contain patents that have been cited and merge this with citations."
   ]
  },
  {
   "cell_type": "code",
   "execution_count": null,
   "metadata": {},
   "outputs": [],
   "source": [
    "#import patents identified in the UK\n",
    "EPO_data = pd.read_csv(\"Patents data/UK_patent_teams.csv\")"
   ]
  },
  {
   "cell_type": "code",
   "execution_count": null,
   "metadata": {},
   "outputs": [],
   "source": [
    "#read in the conversion between EPO and PCT applications\n",
    "EPO_PCT = pd.read_csv(\"Patents data/202001_EPO_PCT.txt\", sep = \"|\", header = 0)"
   ]
  },
  {
   "cell_type": "code",
   "execution_count": null,
   "metadata": {},
   "outputs": [],
   "source": [
    "#get a list of all application numbers from the UK patent dataset\n",
    "EPO_list = list(EPO_data[\"app_nbr\"].unique())"
   ]
  },
  {
   "cell_type": "code",
   "execution_count": null,
   "metadata": {},
   "outputs": [],
   "source": [
    "#shrink the EPO_CPT dataset to only those who come from the UK dataset\n",
    "PCT_joint = EPO_PCT[EPO_PCT[\"app_nbr\"].isin(EPO_list)]"
   ]
  },
  {
   "cell_type": "code",
   "execution_count": null,
   "metadata": {},
   "outputs": [],
   "source": [
    "#get a list of all the pct numbers from that list\n",
    "PCT_joint_list = list(PCT_joint[\"pct_nbr\"])"
   ]
  },
  {
   "cell_type": "markdown",
   "metadata": {},
   "source": [
    "# Citation data"
   ]
  },
  {
   "cell_type": "markdown",
   "metadata": {},
   "source": [
    "### EPO citation data"
   ]
  },
  {
   "cell_type": "code",
   "execution_count": null,
   "metadata": {},
   "outputs": [],
   "source": [
    "#import the EPO citations database as a pandas dataframe\n",
    "EPO_cit = pd.read_csv(\"Patents data/Citations/202001_EPO_CITATIONS.txt\", sep = \"|\", header = 0)"
   ]
  },
  {
   "cell_type": "code",
   "execution_count": null,
   "metadata": {},
   "outputs": [],
   "source": [
    "#remove all files for which the cited publication data is not there\n",
    "EPO_cit = EPO_cit[EPO_cit[\"Cited_pub_date\"].notna()]"
   ]
  },
  {
   "cell_type": "code",
   "execution_count": null,
   "metadata": {},
   "outputs": [],
   "source": [
    "#filter down to those for which the cited application number is in the EPO list\n",
    "EPO_cit_ind_GB = EPO_cit[EPO_cit[\"Cited_App_nbr\"].isin(EPO_list)]"
   ]
  },
  {
   "cell_type": "code",
   "execution_count": null,
   "metadata": {},
   "outputs": [],
   "source": [
    "#change the format of the dates to actual dates rather than numbers\n",
    "from datetime import datetime\n",
    "dates = list(EPO_cit_ind_GB[\"Citing_pub_date\"])\n",
    "\n",
    "dateschanged = []\n",
    "\n",
    "for x in dates:\n",
    "    x = str(x)\n",
    "    date = datetime.strptime(x, '%Y%m%d').strftime('%Y/%m/%d')\n",
    "    dateschanged.append(date)\n",
    "    "
   ]
  },
  {
   "cell_type": "code",
   "execution_count": null,
   "metadata": {},
   "outputs": [],
   "source": [
    "dates2 = list(EPO_cit_ind_GB[\"Cited_pub_date\"])\n",
    "\n",
    "dateschanged2 = []\n",
    "\n",
    "for t in dates2:\n",
    "    t = int(t)\n",
    "    t = str(t)\n",
    "    date2 = datetime.strptime(t, '%Y%m%d').strftime('%Y/%m/%d')\n",
    "    dateschanged2.append(date2)"
   ]
  },
  {
   "cell_type": "code",
   "execution_count": null,
   "metadata": {},
   "outputs": [],
   "source": [
    "EPO_cit_ind_GB[\"Citing_pub_date\"] = dateschanged\n",
    "EPO_cit_ind_GB[\"Cited_pub_date\"] = dateschanged2"
   ]
  },
  {
   "cell_type": "code",
   "execution_count": null,
   "metadata": {},
   "outputs": [],
   "source": [
    "#export the result to EPO citations csv\n",
    "EPO_cit_ind_GB.to_csv(\"Patents data/EPO_citations_GB.csv\")"
   ]
  },
  {
   "cell_type": "code",
   "execution_count": null,
   "metadata": {},
   "outputs": [],
   "source": [
    "#explore how many patents are actually grouped in this dataset\n",
    "EPO_cit_grouped = EPO_cit_ind_GB.groupby([\"Cited_pub_nbr\"]).count()"
   ]
  },
  {
   "cell_type": "code",
   "execution_count": null,
   "metadata": {},
   "outputs": [],
   "source": [
    "#the mean number of citations that a patent gets is 2.54 if it did receive a citation\n",
    "EPO_cit_grouped.mean()\n",
    "#the number of patents receving a citation under this is 30,038 patents\n",
    "EPO_cit_grouped.count()"
   ]
  },
  {
   "cell_type": "code",
   "execution_count": null,
   "metadata": {},
   "outputs": [],
   "source": [
    "#get a list of all the cited application numbers\n",
    "EPO_cited = list(EPO_cit_grouped[\"Cited_App_nbr\"])"
   ]
  },
  {
   "cell_type": "code",
   "execution_count": null,
   "metadata": {},
   "outputs": [],
   "source": [
    "#get the PCT application numbers \n",
    "PCT_also_cited = EPO_PCT[EPO_PCT[\"app_nbr\"].isin(EPO_cited)]"
   ]
  },
  {
   "cell_type": "code",
   "execution_count": null,
   "metadata": {},
   "outputs": [],
   "source": [
    "PCT_also_cited = list(PCT_also_cited[\"pct_nbr\"])"
   ]
  },
  {
   "cell_type": "markdown",
   "metadata": {},
   "source": [
    "### PCT citations"
   ]
  },
  {
   "cell_type": "code",
   "execution_count": null,
   "metadata": {},
   "outputs": [],
   "source": [
    "#read in the PCT citation data\n",
    "PCT_cit = pd.read_csv(\"Patents data/Citations/202001_PCT_CITATIONS.txt\", sep = \"|\", header = 0)"
   ]
  },
  {
   "cell_type": "code",
   "execution_count": null,
   "metadata": {},
   "outputs": [],
   "source": [
    "#remove those that do not have a citation date\n",
    "PCT_cit = PCT_cit[PCT_cit[\"Cited_pub_date\"].notna()]"
   ]
  },
  {
   "cell_type": "code",
   "execution_count": null,
   "metadata": {},
   "outputs": [],
   "source": [
    "#get only those PCT citations whose application number is in the joint list\n",
    "PCT_in_EPOGB = PCT_cit[PCT_cit[\"Cited_App_nbr\"].isin(PCT_joint_list)]"
   ]
  },
  {
   "cell_type": "code",
   "execution_count": null,
   "metadata": {},
   "outputs": [],
   "source": [
    "#change the dates such that they are in date time format\n",
    "PCT_dates = list(PCT_in_EPOGB[\"Citing_pub_date\"])\n",
    "\n",
    "PCT_dateschanged = []\n",
    "\n",
    "for x in PCT_dates:\n",
    "    x = str(x)\n",
    "    date = datetime.strptime(x, '%Y%m%d').strftime('%Y/%m/%d')\n",
    "    PCT_dateschanged.append(date)\n",
    "    \n"
   ]
  },
  {
   "cell_type": "code",
   "execution_count": null,
   "metadata": {},
   "outputs": [],
   "source": [
    "PCT_dates2 = list(PCT_in_EPOGB[\"Cited_pub_date\"])\n",
    "\n",
    "PCT_dateschanged2 = []\n",
    "\n",
    "for t in PCT_dates2:\n",
    "    t = int(t)\n",
    "    t = str(t)\n",
    "    date2 = datetime.strptime(t, '%Y%m%d').strftime('%Y/%m/%d')\n",
    "    PCT_dateschanged2.append(date2)"
   ]
  },
  {
   "cell_type": "code",
   "execution_count": null,
   "metadata": {},
   "outputs": [],
   "source": [
    "PCT_in_EPOGB[\"Citing_pub_date\"] = PCT_dateschanged\n",
    "PCT_in_EPOGB[\"Cited_pub_date\"] = PCT_dateschanged2"
   ]
  },
  {
   "cell_type": "code",
   "execution_count": null,
   "metadata": {},
   "outputs": [],
   "source": [
    "#export the file to PCT citations database\n",
    "PCT_in_EPOGB.to_csv(\"Patents data/PCT_citations_GB.csv\")"
   ]
  },
  {
   "cell_type": "code",
   "execution_count": null,
   "metadata": {},
   "outputs": [],
   "source": [
    "#group by the cited patent publication number\n",
    "PCT_cit_grouped = PCT_in_EPOGB.groupby([\"Cited_App_nbr\"]).count()"
   ]
  },
  {
   "cell_type": "code",
   "execution_count": null,
   "metadata": {},
   "outputs": [],
   "source": [
    "#reset the index\n",
    "PCT_cit_grouped.reset_index(inplace=True)"
   ]
  },
  {
   "cell_type": "code",
   "execution_count": null,
   "metadata": {},
   "outputs": [],
   "source": [
    "#check for overlap between PCT and EPO citations - it appears there is none\n",
    "PCT_cit_grouped_also = PCT_cit_grouped[PCT_cit_grouped[\"Cited_pub_nbr\"].isin(PCT_also_cited)]"
   ]
  },
  {
   "cell_type": "code",
   "execution_count": null,
   "metadata": {},
   "outputs": [],
   "source": [
    "#the mean number of citations a patent receives that gets citations is 3.04\n",
    "PCT_cit_grouped.mean()\n",
    "#the number of cited patents is 26408\n",
    "PCT_cit_grouped"
   ]
  },
  {
   "cell_type": "code",
   "execution_count": null,
   "metadata": {},
   "outputs": [],
   "source": [
    "len(PCT_cit_grouped[\"Cited_App_nbr\"].unique())"
   ]
  },
  {
   "cell_type": "code",
   "execution_count": null,
   "metadata": {},
   "outputs": [],
   "source": [
    "#extracting the patents that are actually cited\n",
    "EPO_cit_ind_GB_list = list(EPO_cit_ind_GB[\"Cited_App_nbr\"])\n",
    "\n"
   ]
  },
  {
   "cell_type": "code",
   "execution_count": null,
   "metadata": {},
   "outputs": [],
   "source": [
    "PCT_in_EPOGB_list = list(PCT_in_EPOGB[\"Cited_App_nbr\"])\n",
    "PCT_in_EPOGB_mixed = EPO_PCT[EPO_PCT[\"pct_nbr\"].isin(PCT_in_EPOGB_list)]\n",
    "PCT_in_EPOGB_mixed_list = list(PCT_in_EPOGB_mixed[\"app_nbr\"])\n"
   ]
  },
  {
   "cell_type": "code",
   "execution_count": null,
   "metadata": {},
   "outputs": [],
   "source": [
    "len(set(PCT_in_EPOGB_mixed_list))\n",
    "#len(set(EPO_cit_ind_GB_list))"
   ]
  },
  {
   "cell_type": "code",
   "execution_count": null,
   "metadata": {},
   "outputs": [],
   "source": [
    "cited_patents = EPO_cit_ind_GB_list + PCT_in_EPOGB_mixed_list"
   ]
  },
  {
   "cell_type": "code",
   "execution_count": null,
   "metadata": {},
   "outputs": [],
   "source": [
    "len(cited_patents)"
   ]
  },
  {
   "cell_type": "code",
   "execution_count": null,
   "metadata": {},
   "outputs": [],
   "source": [
    "EPO_data.count()"
   ]
  },
  {
   "cell_type": "code",
   "execution_count": null,
   "metadata": {},
   "outputs": [],
   "source": [
    "cited_patents_table = EPO_data[EPO_data[\"app_nbr\"].isin(cited_patents)]"
   ]
  },
  {
   "cell_type": "code",
   "execution_count": null,
   "metadata": {},
   "outputs": [],
   "source": [
    "len(cited_patents_table[\"app_nbr\"].unique())"
   ]
  },
  {
   "cell_type": "code",
   "execution_count": null,
   "metadata": {},
   "outputs": [],
   "source": [
    "cited_patents_table.to_csv(\"Patents data/UK_Patents_cited.csv\")"
   ]
  }
 ],
 "metadata": {
  "kernelspec": {
   "display_name": "Python 3",
   "language": "python",
   "name": "python3"
  },
  "language_info": {
   "codemirror_mode": {
    "name": "ipython",
    "version": 3
   },
   "file_extension": ".py",
   "mimetype": "text/x-python",
   "name": "python",
   "nbconvert_exporter": "python",
   "pygments_lexer": "ipython3",
   "version": "3.7.3"
  }
 },
 "nbformat": 4,
 "nbformat_minor": 2
}

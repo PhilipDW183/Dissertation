{
 "cells": [
  {
   "cell_type": "code",
   "execution_count": null,
   "metadata": {},
   "outputs": [],
   "source": [
    "import pandas as pd\n",
    "import numpy as np"
   ]
  },
  {
   "cell_type": "markdown",
   "metadata": {},
   "source": [
    "# Creating EPO controls\n",
    "\n",
    "This workbook creates controls for the EPO dataset. Considering that both the EPO and PCT datasets will be combined for the analysis, then controls for the orignial EPO dataset are not contrsicted to results solely to those that have intial application under the EPO. Thus, controls can come from both the EPO and the PCT dataset.\n",
    "\n",
    "These datasets come from the results found in: Control_data.ipynb and Exploring_citation_data.ipynb\n",
    "\n",
    "Given that creating these controls results in a dataset containing over 150,000,000 rows, EPO and PCT controls are created seperately. Thus, this workbook is computationally expensive in terms of memory usage. My own computer is able to complete this due to availability of 16gb of RAM."
   ]
  },
  {
   "cell_type": "code",
   "execution_count": null,
   "metadata": {},
   "outputs": [],
   "source": [
    "#read in the EPO citation data\n",
    "#this is citations that appear in the EPO information\n",
    "EPO_cit = pd.read_csv(\"Patents data/EPO_cit_wIPC_code.csv\")"
   ]
  },
  {
   "cell_type": "code",
   "execution_count": null,
   "metadata": {},
   "outputs": [],
   "source": [
    "#rename the unamed column to the index\n",
    "#this will be used later on to groupby as it is the only column that is different for each result\n",
    "EPO_cit.rename(columns = {\"Unnamed: 0\": \"Index\"}, inplace = True)"
   ]
  },
  {
   "cell_type": "code",
   "execution_count": null,
   "metadata": {},
   "outputs": [],
   "source": [
    "#we want only the IPC subclass which is the first four characters in the IPC string\n",
    "#use the solution found on the following website\n",
    "#http://www.datasciencemadesimple.com/return-first-n-character-from-left-of-column-in-pandas-python/\n",
    "#how to extract the first n digits frmo a string in python and store it in another column\n",
    "EPO_cit[\"IPC_subclass\"] = EPO_cit[\"IPC\"].str[0:4]"
   ]
  },
  {
   "cell_type": "code",
   "execution_count": null,
   "metadata": {},
   "outputs": [],
   "source": [
    "#drop any unecessary columns so as to reduce space\n",
    "#these will be reintroduced at a later point in time\n",
    "EPO_cit.drop([\"app_year\", \"PCT_Route\", \"Citn_lag_month\", \"Citn_lag_year\", \"Citn_category\",\n",
    "              \"Citn_origin\", \"Cit_Total\"], axis=1, inplace=True)"
   ]
  },
  {
   "cell_type": "code",
   "execution_count": null,
   "metadata": {},
   "outputs": [],
   "source": [
    "#create a list of all citing and cited application ids\n",
    "#this is to make sure there are no duplication in the control group later\n",
    "EPO_list = list(set(list(EPO_cit[\"Citing_appln_id\"]) + list(EPO_cit[\"Cited_Appln_id\"])))"
   ]
  },
  {
   "cell_type": "code",
   "execution_count": null,
   "metadata": {},
   "outputs": [],
   "source": [
    "#read in the data of the potential controls\n",
    "Pot_ctrl = pd.read_csv(\"Patents data/potential_control.csv\")"
   ]
  },
  {
   "cell_type": "code",
   "execution_count": null,
   "metadata": {},
   "outputs": [],
   "source": [
    "#count the resulting output\n",
    "Pot_ctrl.count()"
   ]
  },
  {
   "cell_type": "code",
   "execution_count": null,
   "metadata": {},
   "outputs": [],
   "source": [
    "#we want the controls that are not duplications of already existing citations\n",
    "#therefore remove the chance of any dupplications\n",
    "#Pot_ctrl = Pot_ctrl[~Pot_ctrl[\"appln_id\"].isin(EPO_list)]\n",
    "#Similar to as above we want the subclass to be able to merge on so get the first four characters of a string\n",
    "Pot_ctrl[\"IPC_subclass\"] = Pot_ctrl[\"IPC\"].str[0:4]"
   ]
  },
  {
   "cell_type": "code",
   "execution_count": null,
   "metadata": {},
   "outputs": [],
   "source": [
    "#merge the EPO citation data with the potential controls \n",
    "#this results in a very large dataframe where each result has different controls\n",
    "EPO_Cit_ctrl = EPO_cit.merge(Pot_ctrl, on = [\"IPC_subclass\", \"prio_year\"], how = \"left\")\n"
   ]
  },
  {
   "cell_type": "code",
   "execution_count": null,
   "metadata": {},
   "outputs": [],
   "source": [
    "EPO_Cit_ctrl = EPO_Cit_ctrl[EPO_Cit_ctrl[\"Citing_appln_id\"] != EPO_Cit_ctrl[\"appln_id\"]]"
   ]
  },
  {
   "cell_type": "code",
   "execution_count": null,
   "metadata": {},
   "outputs": [],
   "source": [
    "EPO_Cit_ctrl"
   ]
  },
  {
   "cell_type": "code",
   "execution_count": null,
   "metadata": {},
   "outputs": [],
   "source": [
    "#rename the columns so we know what they are\n",
    "EPO_Cit_ctrl.rename(columns = {\"IPC_x\":\"Citing_IPC\",\n",
    "                              \"IPC_y\": \"Control_IPC\",\n",
    "                              \"appln_id\": \"Control_appln_id\"}, inplace = True)"
   ]
  },
  {
   "cell_type": "code",
   "execution_count": null,
   "metadata": {},
   "outputs": [],
   "source": [
    "#we want to groupby the index so that individual results are retained\n",
    "#however we only want a single control for each\n",
    "#the solution to this was found in the second answer of the following website\n",
    "#https://stackoverflow.com/questions/22472213/python-random-selection-per-group\n",
    "EPO_cit_ctrl_single = EPO_Cit_ctrl.groupby(\"Index\").apply(lambda x: x.sample(1)).reset_index(drop=True)\n"
   ]
  },
  {
   "cell_type": "code",
   "execution_count": null,
   "metadata": {},
   "outputs": [],
   "source": [
    "#rename the final column so we know what it is\n",
    "EPO_cit_ctrl_single.rename(columns = {\"pct_nbr\": \"Control_pct_nbr\"}, inplace = True)\n"
   ]
  },
  {
   "cell_type": "code",
   "execution_count": null,
   "metadata": {},
   "outputs": [],
   "source": [
    "#check the resulting output and make sure that no columns have been left behind\n",
    "EPO_cit_ctrl_single"
   ]
  },
  {
   "cell_type": "code",
   "execution_count": null,
   "metadata": {},
   "outputs": [],
   "source": [
    "#output the result to a new csv\n",
    "EPO_cit_ctrl_single.to_csv(\"Patents data/EPO_cit_wCTRL_single2.csv\")\n",
    "\n",
    "#This notebook stores a lot of the results in RAM and so no more operations can be performed in this notebook\n",
    "#a new notebook is created for the PCT citations and subsequent controls"
   ]
  }
 ],
 "metadata": {
  "kernelspec": {
   "display_name": "Python 3",
   "language": "python",
   "name": "python3"
  },
  "language_info": {
   "codemirror_mode": {
    "name": "ipython",
    "version": 3
   },
   "file_extension": ".py",
   "mimetype": "text/x-python",
   "name": "python",
   "nbconvert_exporter": "python",
   "pygments_lexer": "ipython3",
   "version": "3.7.3"
  }
 },
 "nbformat": 4,
 "nbformat_minor": 2
}
